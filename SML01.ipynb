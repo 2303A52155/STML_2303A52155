{
  "nbformat": 4,
  "nbformat_minor": 0,
  "metadata": {
    "colab": {
      "provenance": [],
      "authorship_tag": "ABX9TyNYVxIUtGsFny63G1DkYO1Z",
      "include_colab_link": true
    },
    "kernelspec": {
      "name": "python3",
      "display_name": "Python 3"
    },
    "language_info": {
      "name": "python"
    }
  },
  "cells": [
    {
      "cell_type": "markdown",
      "metadata": {
        "id": "view-in-github",
        "colab_type": "text"
      },
      "source": [
        "<a href=\"https://colab.research.google.com/github/2303A52155/STML_2303A52155/blob/main/SML01.ipynb\" target=\"_parent\"><img src=\"https://colab.research.google.com/assets/colab-badge.svg\" alt=\"Open In Colab\"/></a>"
      ]
    },
    {
      "cell_type": "markdown",
      "source": [
        "\n",
        "\n",
        "K.SHAILAJA"
      ],
      "metadata": {
        "id": "8InvXO8AbJGB"
      }
    },
    {
      "cell_type": "markdown",
      "source": [
        "HTNO:2303A52155"
      ],
      "metadata": {
        "id": "r13c32ErbIIF"
      }
    },
    {
      "cell_type": "markdown",
      "source": [
        "BATCH-34"
      ],
      "metadata": {
        "id": "eWx1Pcz8bIE9"
      }
    },
    {
      "cell_type": "markdown",
      "source": [
        "QUESTION 1"
      ],
      "metadata": {
        "id": "3p97sWflYFwB"
      }
    },
    {
      "cell_type": "code",
      "execution_count": null,
      "metadata": {
        "colab": {
          "base_uri": "https://localhost:8080/",
          "height": 472
        },
        "id": "hP3E2XjYW3-x",
        "outputId": "a1680a15-0528-499b-97a5-3b27fc5c9e42"
      },
      "outputs": [
        {
          "output_type": "display_data",
          "data": {
            "text/plain": [
              "<Figure size 640x480 with 1 Axes>"
            ],
            "image/png": "[encoded data removed]"
          },
          "metadata": {}
        }
      ],
      "source": [
        "import numpy as np\n",
        "import matplotlib.pyplot as plt\n",
        "age= np.array([88,67,79,55,67,34,12,65,34,99])\n",
        "counts,bin_edges = np.histogram(x, bins=5,density=True)\n",
        "plt.hist(age, bins=5,density=True, alpha=0.6, color='y',edgecolor='black')\n",
        "plt.xlabel('Value')\n",
        "plt.ylabel('age')\n",
        "plt.title('Histogram with Density for age')\n",
        "plt.show()"
      ]
    },
    {
      "cell_type": "markdown",
      "source": [
        "QUESTION 2"
      ],
      "metadata": {
        "id": "psNHQHqDYARR"
      }
    },
    {
      "cell_type": "code",
      "source": [
        "\n",
        "import numpy as np\n",
        "import pandas as pd\n",
        "from scipy import stats\n",
        "import matplotlib.pyplot as plt\n",
        "bp= np.array([181,103,95,106,187,125,181])\n",
        "mean_value = np.mean(bp)\n",
        "median_value = np.median(bp)\n",
        "mode_value, mode_count = stats.mode(bp)\n",
        "variance_value = np.var(bp, ddof=1)\n",
        "std_dev_value = np.std(bp, ddof=1)\n",
        "range_value = np.ptp(bp)\n",
        "q75, q25 = np.percentile(bp, [75, 25])\n",
        "iqr_value = q75 - q25\n",
        "skewness_value = stats.skew(bp)\n",
        "kurtosis_value = stats.kurtosis(bp)\n",
        "print(\"values found for blood pressure\")\n",
        "print(f\"Mean: {mean_value:.2f}\")\n",
        "print(f\"Median: {median_value:.2f}\")\n",
        "print(f\"Variance: {variance_value:.2f}\")\n",
        "print(f\"Standard Deviation: {std_dev_value:.2f}\")\n",
        "print(f\"Range: {range_value:.2f}\")\n",
        "print(f\"Interquartile Range (IQR): {iqr_value:.2f}\")\n",
        "print(f\"Skewness: {skewness_value:.2f}\")\n",
        "print(f\"Kurtosis: {kurtosis_value:.2f}\")\n"
      ],
      "metadata": {
        "colab": {
          "base_uri": "https://localhost:8080/"
        },
        "id": "JwoWw1QqYDUv",
        "outputId": "8b115e05-bc56-4ec9-a662-74b62e68cf9a"
      },
      "execution_count": null,
      "outputs": [
        {
          "output_type": "stream",
          "name": "stdout",
          "text": [
            "values found for blood pressure\n",
            "Mean: 139.71\n",
            "Median: 125.00\n",
            "Variance: 1724.24\n",
            "Standard Deviation: 41.52\n",
            "Range: 92.00\n",
            "Interquartile Range (IQR): 76.50\n",
            "Skewness: 0.17\n",
            "Kurtosis: -1.83\n"
          ]
        }
      ]
    },
    {
      "cell_type": "markdown",
      "source": [
        "QUESTION 3"
      ],
      "metadata": {
        "id": "xOM-qX2xZ3lQ"
      }
    },
    {
      "cell_type": "code",
      "source": [
        "import numpy as np\n",
        "import pandas as pd\n",
        "from scipy import stats\n",
        "import matplotlib.pyplot as plt\n",
        "ch= np.array([262,253,295,270,296,236,277])\n",
        "mean_value = np.mean(ch)\n",
        "median_value = np.median(ch)\n",
        "mode_value, mode_count = stats.mode(ch)\n",
        "variance_value = np.var(ch, ddof=1)\n",
        "std_dev_value = np.std(ch, ddof=1)\n",
        "range_value = np.ptp(ch)\n",
        "q75, q25 = np.percentile(ch, [75, 25])\n",
        "iqr_value = q75 - q25\n",
        "skewness_value = stats.skew(ch)\n",
        "kurtosis_value = stats.kurtosis(ch)\n",
        "print(\"values found for chloestrol\")\n",
        "print(f\"Mean: {mean_value:.2f}\")\n",
        "print(f\"Median: {median_value:.2f}\")\n",
        "print(f\"Variance: {variance_value:.2f}\")\n",
        "print(f\"Standard Deviation: {std_dev_value:.2f}\")\n",
        "print(f\"Range: {range_value:.2f}\")\n",
        "print(f\"Interquartile Range (IQR): {iqr_value:.2f}\")\n",
        "print(f\"Skewness: {skewness_value:.2f}\")\n",
        "print(f\"Kurtosis: {kurtosis_value:.2f}\")\n"
      ],
      "metadata": {
        "colab": {
          "base_uri": "https://localhost:8080/"
        },
        "id": "AtgB_NZcZ65Z",
        "outputId": "8e8834e2-b780-4c2f-9e5f-045605a540be"
      },
      "execution_count": null,
      "outputs": [
        {
          "output_type": "stream",
          "name": "stdout",
          "text": [
            "values found for chloestrol\n",
            "Mean: 269.86\n",
            "Median: 270.00\n",
            "Variance: 476.48\n",
            "Standard Deviation: 21.83\n",
            "Range: 60.00\n",
            "Interquartile Range (IQR): 28.50\n",
            "Skewness: -0.17\n",
            "Kurtosis: -1.06\n"
          ]
        }
      ]
    }
  ]
}